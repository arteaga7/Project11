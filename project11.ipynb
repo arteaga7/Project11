{
 "cells": [
  {
   "cell_type": "markdown",
   "metadata": {},
   "source": [
    "# Proyecto 11"
   ]
  },
  {
   "cell_type": "markdown",
   "metadata": {},
   "source": [
    "## Preparación y análisis exploratorio de los datos"
   ]
  },
  {
   "cell_type": "code",
   "execution_count": 1,
   "metadata": {},
   "outputs": [],
   "source": [
    "# Import libraries\n",
    "import numpy as np\n",
    "import pandas as pd\n",
    "from matplotlib import pyplot as plt\n",
    "from scipy import stats as st\n",
    "import datetime as dt\n",
    "import math as mth"
   ]
  },
  {
   "cell_type": "code",
   "execution_count": 2,
   "metadata": {},
   "outputs": [
    {
     "name": "stdout",
     "output_type": "stream",
     "text": [
      "                 EventName         DeviceIDHash  EventTimestamp  ExpId\n",
      "0         MainScreenAppear  4575588528974610257      1564029816    246\n",
      "1         MainScreenAppear  7416695313311560658      1564053102    246\n",
      "2  PaymentScreenSuccessful  3518123091307005509      1564054127    248\n"
     ]
    }
   ],
   "source": [
    "# Read DataFrame\n",
    "df = pd.read_csv('./logs_exp_us.csv', sep='\\t',header=0)\n",
    "\n",
    "# Show DataFrame\n",
    "print(df.head(3))"
   ]
  },
  {
   "cell_type": "code",
   "execution_count": 3,
   "metadata": {},
   "outputs": [
    {
     "name": "stdout",
     "output_type": "stream",
     "text": [
      "<class 'pandas.core.frame.DataFrame'>\n",
      "RangeIndex: 244126 entries, 0 to 244125\n",
      "Data columns (total 4 columns):\n",
      " #   Column          Non-Null Count   Dtype \n",
      "---  ------          --------------   ----- \n",
      " 0   EventName       244126 non-null  object\n",
      " 1   DeviceIDHash    244126 non-null  int64 \n",
      " 2   EventTimestamp  244126 non-null  int64 \n",
      " 3   ExpId           244126 non-null  int64 \n",
      "dtypes: int64(3), object(1)\n",
      "memory usage: 7.5+ MB\n"
     ]
    }
   ],
   "source": [
    "# Show DataFrame information\n",
    "df.info()"
   ]
  },
  {
   "cell_type": "markdown",
   "metadata": {},
   "source": [
    "No se tienen valores núlos en las columnas, pero el tipo de dato de algunas no es correcto. Se renombrarán las columnas y se agregarán 2 colunmas."
   ]
  },
  {
   "cell_type": "code",
   "execution_count": 4,
   "metadata": {},
   "outputs": [],
   "source": [
    "# Rename columns\n",
    "df.columns = ['event_name','user_id','event_time','group']"
   ]
  },
  {
   "cell_type": "code",
   "execution_count": 5,
   "metadata": {},
   "outputs": [
    {
     "data": {
      "text/html": [
       "<div>\n",
       "<style scoped>\n",
       "    .dataframe tbody tr th:only-of-type {\n",
       "        vertical-align: middle;\n",
       "    }\n",
       "\n",
       "    .dataframe tbody tr th {\n",
       "        vertical-align: top;\n",
       "    }\n",
       "\n",
       "    .dataframe thead th {\n",
       "        text-align: right;\n",
       "    }\n",
       "</style>\n",
       "<table border=\"1\" class=\"dataframe\">\n",
       "  <thead>\n",
       "    <tr style=\"text-align: right;\">\n",
       "      <th></th>\n",
       "      <th>event_name</th>\n",
       "      <th>user_id</th>\n",
       "      <th>event_time</th>\n",
       "      <th>group</th>\n",
       "      <th>event_datetime</th>\n",
       "      <th>event_date</th>\n",
       "    </tr>\n",
       "  </thead>\n",
       "  <tbody>\n",
       "    <tr>\n",
       "      <th>0</th>\n",
       "      <td>MainScreenAppear</td>\n",
       "      <td>4575588528974610257</td>\n",
       "      <td>1564029816</td>\n",
       "      <td>246</td>\n",
       "      <td>2019-07-25 04:43:36</td>\n",
       "      <td>2019-07-25</td>\n",
       "    </tr>\n",
       "    <tr>\n",
       "      <th>1</th>\n",
       "      <td>MainScreenAppear</td>\n",
       "      <td>7416695313311560658</td>\n",
       "      <td>1564053102</td>\n",
       "      <td>246</td>\n",
       "      <td>2019-07-25 11:11:42</td>\n",
       "      <td>2019-07-25</td>\n",
       "    </tr>\n",
       "    <tr>\n",
       "      <th>2</th>\n",
       "      <td>PaymentScreenSuccessful</td>\n",
       "      <td>3518123091307005509</td>\n",
       "      <td>1564054127</td>\n",
       "      <td>248</td>\n",
       "      <td>2019-07-25 11:28:47</td>\n",
       "      <td>2019-07-25</td>\n",
       "    </tr>\n",
       "  </tbody>\n",
       "</table>\n",
       "</div>"
      ],
      "text/plain": [
       "                event_name              user_id  event_time  group  \\\n",
       "0         MainScreenAppear  4575588528974610257  1564029816    246   \n",
       "1         MainScreenAppear  7416695313311560658  1564053102    246   \n",
       "2  PaymentScreenSuccessful  3518123091307005509  1564054127    248   \n",
       "\n",
       "       event_datetime  event_date  \n",
       "0 2019-07-25 04:43:36  2019-07-25  \n",
       "1 2019-07-25 11:11:42  2019-07-25  \n",
       "2 2019-07-25 11:28:47  2019-07-25  "
      ]
     },
     "execution_count": 5,
     "metadata": {},
     "output_type": "execute_result"
    }
   ],
   "source": [
    "# Change type data\n",
    "df['event_name'] = df['event_name'].astype('str')\n",
    "df['event_datetime'] = pd.to_datetime(df['event_time'], unit='s')\n",
    "df['event_date'] = df['event_datetime'].dt.date\n",
    "\n",
    "df.head(3)"
   ]
  },
  {
   "cell_type": "markdown",
   "metadata": {},
   "source": [
    "Se eliminarán filas duplicadas respecto a las columnas \"event_name\",\"user_id\",\"event_time\", dado que si el valor en éstas es el mismo para dos filas, entonces se asume que esas filas están duplicadas."
   ]
  },
  {
   "cell_type": "code",
   "execution_count": 6,
   "metadata": {},
   "outputs": [
    {
     "data": {
      "text/plain": [
       "0"
      ]
     },
     "execution_count": 6,
     "metadata": {},
     "output_type": "execute_result"
    }
   ],
   "source": [
    "# Delete duplicated rows considering a few columns only\n",
    "df = df.drop_duplicates(subset=[\"event_name\",\"user_id\",\"event_time\"]).reset_index(drop=True)\n",
    "\n",
    "# Show duplicates considering a few columns only\n",
    "df.duplicated(subset=[\"event_name\",\"user_id\",\"event_time\"]).sum()"
   ]
  },
  {
   "cell_type": "markdown",
   "metadata": {},
   "source": [
    "## Análisis de los datos"
   ]
  },
  {
   "cell_type": "markdown",
   "metadata": {},
   "source": [
    "### ¿Cuántos eventos hay en los registros?"
   ]
  },
  {
   "cell_type": "code",
   "execution_count": 7,
   "metadata": {},
   "outputs": [
    {
     "name": "stdout",
     "output_type": "stream",
     "text": [
      "5\n"
     ]
    }
   ],
   "source": [
    "# Count unique events\n",
    "print(len(df['event_name'].unique()))"
   ]
  },
  {
   "cell_type": "markdown",
   "metadata": {},
   "source": [
    "### ¿Cuántos usuarios hay en los registros?"
   ]
  },
  {
   "cell_type": "code",
   "execution_count": 8,
   "metadata": {},
   "outputs": [
    {
     "name": "stdout",
     "output_type": "stream",
     "text": [
      "7551\n"
     ]
    }
   ],
   "source": [
    "# Count unique users\n",
    "total_users = len(df['user_id'].unique())\n",
    "print(total_users)"
   ]
  },
  {
   "cell_type": "markdown",
   "metadata": {},
   "source": [
    "### ¿Cuál es el promedio de eventos por usuario?"
   ]
  },
  {
   "cell_type": "code",
   "execution_count": 9,
   "metadata": {},
   "outputs": [
    {
     "name": "stdout",
     "output_type": "stream",
     "text": [
      "32.28\n"
     ]
    }
   ],
   "source": [
    "# Count total number of events\n",
    "total_events = len(df['event_name'])\n",
    "\n",
    "# Events per user\n",
    "print(f\"{total_events / total_users:.2f}\")"
   ]
  },
  {
   "cell_type": "markdown",
   "metadata": {},
   "source": [
    "### ¿Qué periodo de tiempo cubren los datos?"
   ]
  },
  {
   "cell_type": "code",
   "execution_count": 10,
   "metadata": {},
   "outputs": [
    {
     "name": "stdout",
     "output_type": "stream",
     "text": [
      "2019-07-25 04:43:36\n",
      "2019-08-07 21:15:17\n"
     ]
    }
   ],
   "source": [
    "# Find minimum and maximum\n",
    "print(df['event_datetime'].min())\n",
    "print(df['event_datetime'].max())"
   ]
  },
  {
   "cell_type": "markdown",
   "metadata": {},
   "source": [
    "Los eventos inician desde el dia 2019-07-25 hasta el dia 2019-08-07. A continuación se mostrará un histograma de los eventos."
   ]
  },
  {
   "cell_type": "code",
   "execution_count": 11,
   "metadata": {},
   "outputs": [
    {
     "data": {
      "image/png": "[encoded data removed]",
      "text/plain": [
       "<Figure size 640x480 with 1 Axes>"
      ]
     },
     "metadata": {},
     "output_type": "display_data"
    }
   ],
   "source": [
    "# Histogram of events\n",
    "df['event_datetime'].hist(bins=20, color='green')\n",
    "plt.title('Histogram of events')\n",
    "plt.xlabel('Date')\n",
    "plt.ylabel('Frecuency')\n",
    "plt.xticks(rotation=45)\n",
    "plt.show()"
   ]
  },
  {
   "cell_type": "markdown",
   "metadata": {},
   "source": [
    "**Nota:** Se puede ver que se tiene información completa de los eventos a partir del dia 2019-08-01, por lo tanto, se descartarán los eventos antes de ese dia."
   ]
  },
  {
   "cell_type": "code",
   "execution_count": 12,
   "metadata": {},
   "outputs": [],
   "source": [
    "# Filter by date\n",
    "df = df[df['event_datetime'] >= pd.to_datetime('2019-08-01')]"
   ]
  },
  {
   "cell_type": "code",
   "execution_count": 13,
   "metadata": {},
   "outputs": [
    {
     "data": {
      "image/png": "[encoded data removed]",
      "text/plain": [
       "<Figure size 640x480 with 1 Axes>"
      ]
     },
     "metadata": {},
     "output_type": "display_data"
    }
   ],
   "source": [
    "# Histogram of events\n",
    "df['event_datetime'].hist(bins=20, color='blue')\n",
    "plt.title('Histogram of events')\n",
    "plt.xlabel('Date')\n",
    "plt.ylabel('Frecuency')\n",
    "plt.xticks(rotation=45)\n",
    "plt.show()"
   ]
  },
  {
   "cell_type": "markdown",
   "metadata": {},
   "source": [
    "### ¿Qué periodo representan realmente los datos?"
   ]
  },
  {
   "cell_type": "code",
   "execution_count": 14,
   "metadata": {},
   "outputs": [
    {
     "name": "stdout",
     "output_type": "stream",
     "text": [
      "2019-08-01 00:07:28\n",
      "2019-08-07 21:15:17\n"
     ]
    }
   ],
   "source": [
    "# Find minimum and maximum of date\n",
    "print(df['event_datetime'].min())\n",
    "print(df['event_datetime'].max())"
   ]
  },
  {
   "cell_type": "markdown",
   "metadata": {},
   "source": [
    "### ¿Perdiste muchos eventos y usuarios al excluir los datos más antiguos?"
   ]
  },
  {
   "cell_type": "markdown",
   "metadata": {},
   "source": [
    "No se perdieron muchos datos de eventos, como se puede observar en el histograma verde."
   ]
  },
  {
   "cell_type": "markdown",
   "metadata": {},
   "source": [
    "### Asegúrate de tener usuarios de los tres grupos experimentales.\n",
    "\n",
    "Se tienen usuarios en todos los grupos."
   ]
  },
  {
   "cell_type": "code",
   "execution_count": 15,
   "metadata": {},
   "outputs": [
    {
     "name": "stdout",
     "output_type": "stream",
     "text": [
      "79302, 77022 y 84563.\n"
     ]
    }
   ],
   "source": [
    "# Obtain groups\n",
    "groupA1 = df[df['group'] == 246]\n",
    "groupA2 = df[df['group'] == 247]\n",
    "groupB = df[df['group'] == 248]\n",
    "\n",
    "print(f\"{len(groupA1)}, {groupA2.shape[0]} y {groupB.shape[0]}.\")"
   ]
  },
  {
   "cell_type": "markdown",
   "metadata": {},
   "source": [
    "### Observa qué eventos hay en los registros y su frecuencia de suceso."
   ]
  },
  {
   "cell_type": "code",
   "execution_count": 16,
   "metadata": {},
   "outputs": [
    {
     "name": "stdout",
     "output_type": "stream",
     "text": [
      "event_name\n",
      "MainScreenAppear           117328\n",
      "OffersScreenAppear          46333\n",
      "CartScreenAppear            42303\n",
      "PaymentScreenSuccessful     33918\n",
      "Tutorial                     1005\n",
      "Name: user_id, dtype: int64\n"
     ]
    }
   ],
   "source": [
    "# Count users per event\n",
    "events = df.groupby('event_name')['user_id'].count().sort_values(ascending=False)\n",
    "print(events)"
   ]
  },
  {
   "cell_type": "markdown",
   "metadata": {},
   "source": [
    "Tomando en cuenta el numero de usuarios por evento, se puede afirmar que los eventos sucedieron en el siguiente orden:\n",
    "MainScreenAppear -> OffersScreenAppear -> CartScreenAppear -> PaymentScreenSuccessful -> Tutorial.\n",
    "\n",
    "Para garantizar la secuencialidad de los eventos, se verificarán las fechas, de la siguiente manera."
   ]
  },
  {
   "cell_type": "code",
   "execution_count": 17,
   "metadata": {},
   "outputs": [
    {
     "data": {
      "text/html": [
       "<div>\n",
       "<style scoped>\n",
       "    .dataframe tbody tr th:only-of-type {\n",
       "        vertical-align: middle;\n",
       "    }\n",
       "\n",
       "    .dataframe tbody tr th {\n",
       "        vertical-align: top;\n",
       "    }\n",
       "\n",
       "    .dataframe thead th {\n",
       "        text-align: right;\n",
       "    }\n",
       "</style>\n",
       "<table border=\"1\" class=\"dataframe\">\n",
       "  <thead>\n",
       "    <tr style=\"text-align: right;\">\n",
       "      <th>event_name</th>\n",
       "      <th>CartScreenAppear</th>\n",
       "      <th>MainScreenAppear</th>\n",
       "      <th>OffersScreenAppear</th>\n",
       "      <th>PaymentScreenSuccessful</th>\n",
       "      <th>Tutorial</th>\n",
       "    </tr>\n",
       "    <tr>\n",
       "      <th>user_id</th>\n",
       "      <th></th>\n",
       "      <th></th>\n",
       "      <th></th>\n",
       "      <th></th>\n",
       "      <th></th>\n",
       "    </tr>\n",
       "  </thead>\n",
       "  <tbody>\n",
       "    <tr>\n",
       "      <th>6888746892508752</th>\n",
       "      <td>1900-01-01 00:00:00</td>\n",
       "      <td>2019-08-06 14:06:34</td>\n",
       "      <td>1900-01-01 00:00:00</td>\n",
       "      <td>1900-01-01 00:00:00</td>\n",
       "      <td>1900-01-01</td>\n",
       "    </tr>\n",
       "    <tr>\n",
       "      <th>6909561520679493</th>\n",
       "      <td>2019-08-06 18:52:58</td>\n",
       "      <td>2019-08-06 18:52:54</td>\n",
       "      <td>2019-08-06 18:53:04</td>\n",
       "      <td>2019-08-06 18:52:58</td>\n",
       "      <td>1900-01-01</td>\n",
       "    </tr>\n",
       "    <tr>\n",
       "      <th>6922444491712477</th>\n",
       "      <td>2019-08-04 14:19:40</td>\n",
       "      <td>2019-08-04 14:19:33</td>\n",
       "      <td>2019-08-04 14:19:46</td>\n",
       "      <td>2019-08-04 14:19:40</td>\n",
       "      <td>1900-01-01</td>\n",
       "    </tr>\n",
       "  </tbody>\n",
       "</table>\n",
       "</div>"
      ],
      "text/plain": [
       "event_name          CartScreenAppear    MainScreenAppear  OffersScreenAppear  \\\n",
       "user_id                                                                        \n",
       "6888746892508752 1900-01-01 00:00:00 2019-08-06 14:06:34 1900-01-01 00:00:00   \n",
       "6909561520679493 2019-08-06 18:52:58 2019-08-06 18:52:54 2019-08-06 18:53:04   \n",
       "6922444491712477 2019-08-04 14:19:40 2019-08-04 14:19:33 2019-08-04 14:19:46   \n",
       "\n",
       "event_name       PaymentScreenSuccessful   Tutorial  \n",
       "user_id                                              \n",
       "6888746892508752     1900-01-01 00:00:00 1900-01-01  \n",
       "6909561520679493     2019-08-06 18:52:58 1900-01-01  \n",
       "6922444491712477     2019-08-04 14:19:40 1900-01-01  "
      ]
     },
     "execution_count": 17,
     "metadata": {},
     "output_type": "execute_result"
    }
   ],
   "source": [
    "# Group by 'user_id' and 'event_name' and find minimum time event\n",
    "users = df.pivot_table(\n",
    "    index='user_id', columns='event_name', values='event_datetime',\n",
    "    aggfunc='min', fill_value=pd.to_datetime('1900-01-01')\n",
    ")\n",
    "users.head(3)"
   ]
  },
  {
   "cell_type": "code",
   "execution_count": 18,
   "metadata": {},
   "outputs": [],
   "source": [
    "# Conditions to guarantee sequentiality\n",
    "step1 = users['MainScreenAppear'] != pd.to_datetime('1900-01-01')\n",
    "step2 = step1 & ( users['OffersScreenAppear']>users['MainScreenAppear'] )\n",
    "step3 = step2 & ( users['CartScreenAppear']>users['OffersScreenAppear'] )\n",
    "step4 = step3 & ( users['PaymentScreenSuccessful']>users['CartScreenAppear'] )\n",
    "step5 = step4 & ( users['Tutorial']>users['PaymentScreenSuccessful'] )\n",
    "\n",
    "n_step1 = users[step1].shape[0]\n",
    "n_step2 = users[step2].shape[0]\n",
    "n_step3 = users[step3].shape[0]\n",
    "n_step4 = users[step4].shape[0]\n",
    "n_step5 = users[step5].shape[0]"
   ]
  },
  {
   "cell_type": "markdown",
   "metadata": {},
   "source": [
    "### Utiliza el embudo de eventos para encontrar la proporción de usuarios que pasan de una etapa a la siguiente.\n",
    "\n",
    "A continuación se mostrara la proporción de usuarios en cada evento con respecto al evento anterior."
   ]
  },
  {
   "cell_type": "code",
   "execution_count": 19,
   "metadata": {},
   "outputs": [
    {
     "name": "stdout",
     "output_type": "stream",
     "text": [
      "MainScreenAppear = 100% (7419)\n",
      "OffersScreenAppear = 56.62% (4201)\n",
      "CartScreenAppear = 42.06% (1767)\n",
      "PaymentScreenSuccessful = 25.69% (454)\n",
      "Tutorial = 0.22% (1)\n"
     ]
    }
   ],
   "source": [
    "# Total users per event\n",
    "print(f\"MainScreenAppear = 100% ({n_step1})\\n\"\n",
    "      f\"OffersScreenAppear = {n_step2/n_step1:.2%} ({n_step2})\\n\"\n",
    "      f\"CartScreenAppear = {n_step3/n_step2:.2%} ({n_step3})\\n\"\n",
    "      f\"PaymentScreenSuccessful = {n_step4/n_step3:.2%} ({n_step4})\\n\"\n",
    "      f\"Tutorial = {n_step5/n_step4:.2%} ({n_step5})\")"
   ]
  },
  {
   "cell_type": "markdown",
   "metadata": {},
   "source": [
    "### ¿En qué etapa pierdes más usuarios?\n",
    "\n",
    "En la segunda etapa (OffersScreenAppear) se pierden más usuarios (56.6%).\n",
    "\n",
    "### ¿Qué porcentaje de usuarios hace todo el viaje desde su primer evento hasta el pago?\n",
    "Sólo el 6.12% de usuarios hacen el pago."
   ]
  },
  {
   "cell_type": "code",
   "execution_count": 20,
   "metadata": {},
   "outputs": [
    {
     "name": "stdout",
     "output_type": "stream",
     "text": [
      "6.12%\n"
     ]
    }
   ],
   "source": [
    "print(f\"{n_step4/n_step1:.2%}\")"
   ]
  },
  {
   "cell_type": "markdown",
   "metadata": {},
   "source": [
    "## Análisis de las pruebas A/A/B"
   ]
  },
  {
   "cell_type": "markdown",
   "metadata": {},
   "source": [
    "### ¿Cuántos usuarios hay en cada grupo?\n",
    "\n",
    "El grupo A1 tiene 79302 usuarios, el grupo A2 tiene 77022 usuarios y el grupo B tiene 84563 usuarios."
   ]
  },
  {
   "cell_type": "code",
   "execution_count": 21,
   "metadata": {},
   "outputs": [
    {
     "name": "stdout",
     "output_type": "stream",
     "text": [
      "79302, 77022 y 84563.\n"
     ]
    }
   ],
   "source": [
    "# Filter by group\n",
    "groupA1 = df[df['group'] == 246]\n",
    "groupA2 = df[df['group'] == 247]\n",
    "groupB = df[df['group'] == 248]\n",
    "\n",
    "print(f\"{len(groupA1)}, {len(groupA2)} y {len(groupB)}.\")"
   ]
  },
  {
   "cell_type": "markdown",
   "metadata": {},
   "source": [
    "### Prueba U de Mann-Whitney\n",
    "\n",
    "Se procedera a realizar las pruebas de Mann-Whitney para determinar si hay una diferencia estadísticamente significativa entre las muestras.\n",
    "\n",
    "**Nota:** Se usará un umbral de significación (alfa) del 5% para todas las pruebas."
   ]
  },
  {
   "cell_type": "markdown",
   "metadata": {},
   "source": [
    "### Observa si hay una diferencia estadísticamente significativa entre las muestras 246 y 247"
   ]
  },
  {
   "cell_type": "code",
   "execution_count": 22,
   "metadata": {},
   "outputs": [
    {
     "name": "stdout",
     "output_type": "stream",
     "text": [
      "event_name\n",
      "MainScreenAppear           37676\n",
      "OffersScreenAppear         14767\n",
      "CartScreenAppear           14690\n",
      "PaymentScreenSuccessful    11852\n",
      "Tutorial                     317\n",
      "Name: user_id, dtype: int64\n"
     ]
    }
   ],
   "source": [
    "# Extract samples\n",
    "sampleA1 = groupA1.groupby('event_name')['user_id'].count().sort_values(ascending=False)\n",
    "sampleA2 = groupA2.groupby('event_name')['user_id'].count().sort_values(ascending=False)\n",
    "sampleB = groupB.groupby('event_name')['user_id'].count().sort_values(ascending=False)\n",
    "\n",
    "# Show sampleA1\n",
    "print(sampleA1.head())"
   ]
  },
  {
   "cell_type": "code",
   "execution_count": 23,
   "metadata": {},
   "outputs": [],
   "source": [
    "def mann_whitney_test(sample1, sample2) -> None:\n",
    "    '''Function to perform the Mann-Whitney U test to determine if\n",
    "    there are significant differences between two independent groups,\n",
    "    considering outliers in samples.'''\n",
    "    # Umbral alpha for the test\n",
    "    alpha = 0.05\n",
    "    # Mann-Whitney U test\n",
    "    result = st.mannwhitneyu(sample1, sample2, True,'two-sided')\n",
    "    print(f\"p-value: {result.pvalue:.2%}\")\n",
    "    if result.pvalue < alpha:\n",
    "        print(\"H0 is rejected: Significant differences between the two groups\")\n",
    "    else:\n",
    "        print(\"H0 cannot be rejected: No significant differences between the two groups\")"
   ]
  },
  {
   "cell_type": "code",
   "execution_count": 24,
   "metadata": {},
   "outputs": [
    {
     "name": "stdout",
     "output_type": "stream",
     "text": [
      "p-value: 100.00%\n",
      "H0 cannot be rejected: No significant differences between the two groups\n"
     ]
    }
   ],
   "source": [
    "mann_whitney_test(sampleA1, sampleA2)"
   ]
  },
  {
   "cell_type": "markdown",
   "metadata": {},
   "source": [
    "No hay diferencias significativas entre los grupos 246 y 247."
   ]
  },
  {
   "cell_type": "code",
   "execution_count": 25,
   "metadata": {},
   "outputs": [
    {
     "name": "stdout",
     "output_type": "stream",
     "text": [
      "p-value: 54.76%\n",
      "H0 cannot be rejected: No significant differences between the two groups\n"
     ]
    }
   ],
   "source": [
    "mann_whitney_test(sampleA1, sampleB)"
   ]
  },
  {
   "cell_type": "markdown",
   "metadata": {},
   "source": [
    "No hay diferencias significativas entre los grupos 246 y 248."
   ]
  },
  {
   "cell_type": "code",
   "execution_count": 26,
   "metadata": {},
   "outputs": [
    {
     "name": "stdout",
     "output_type": "stream",
     "text": [
      "p-value: 60.04%\n",
      "H0 cannot be rejected: No significant differences between the two groups\n"
     ]
    }
   ],
   "source": [
    "mann_whitney_test(sampleA2, sampleB)"
   ]
  },
  {
   "cell_type": "markdown",
   "metadata": {},
   "source": [
    "No hay diferencias significativas entre los grupos 247 y 248."
   ]
  },
  {
   "cell_type": "markdown",
   "metadata": {},
   "source": [
    "**Conclusión:** No hay diferencia estadísticamente significativa entre las muestras, por lo tanto, las prubas A/A se realizaron exitosamente y la estrategia de \"cambiar las fuentes de toda la aplicación\" no funcionó como se esperaba.\n",
    "\n",
    "#### Selecciona el evento más popular. En cada uno de los grupos de control, encuentra la cantidad de usuarios que realizaron esta acción. Encuentra su proporción."
   ]
  },
  {
   "cell_type": "markdown",
   "metadata": {},
   "source": [
    "### Prueba de proporción\n",
    "\n",
    "Se procedera a realizar las pruebas de proporción para probar la hipótesis de que las proporciones son iguales, es decir, si hay una diferencia entre las tasas de conversion de las muestras. Estas pruebas se harán para el evento 2 (OffersScreenAppear) y 4 (PaymentScreenSuccessful), la prueba para los demás eventos es similar."
   ]
  },
  {
   "cell_type": "code",
   "execution_count": 27,
   "metadata": {},
   "outputs": [],
   "source": [
    "def proportion_test(sample1, sample2, event: int=1) -> None:\n",
    "    '''Function to perform the proportion test to determine if\n",
    "    there is significant difference between the proportions'''\n",
    "    # Umbral alpha for the test\n",
    "    alpha = 0.05\n",
    "    \n",
    "    successes = np.array([sample1[event], sample2[event]])\n",
    "    trials = np.array([sample1[0], sample2[0]])\n",
    "    \n",
    "    # Success proportion for group 1\n",
    "    p1 = successes[0]/trials[0]\n",
    "    \n",
    "    # Success proportion for group 2\n",
    "    p2 = successes[1]/trials[1]\n",
    "    \n",
    "    # Success proportion of combined Dataset:\n",
    "    p_combined = (successes[0] + successes[1]) / (trials[0] + trials[1])\n",
    "    \n",
    "    # Proportion difference\n",
    "    difference = p1 - p2\n",
    "    \n",
    "    # Calculate the statistic in standard deviations of the standard normal distribution\n",
    "    z_value = difference / mth.sqrt(p_combined * (1 - p_combined) * (1/trials[0] + 1/trials[1]))\n",
    "    \n",
    "    # Set the standard normal distribution (mean 0, standard deviation 1)\n",
    "    distr = st.norm(0, 1)\n",
    "    \n",
    "    p_value = (1 - distr.cdf(abs(z_value))) * 2\n",
    "    print(f\"p-value: {p_value:.2%}\")\n",
    "    if (p_value < alpha):\n",
    "        print(\"H0 is rejected: Significant difference between the proportions\")\n",
    "    else:\n",
    "        print(\"H0 cannot be rejected: No reason to think that the proportions are different\")"
   ]
  },
  {
   "cell_type": "markdown",
   "metadata": {},
   "source": [
    "#### Para el evento 2 (OffersScreenAppear):"
   ]
  },
  {
   "cell_type": "code",
   "execution_count": 28,
   "metadata": {},
   "outputs": [
    {
     "name": "stdout",
     "output_type": "stream",
     "text": [
      "p-value: 30.16%\n",
      "H0 cannot be rejected: No reason to think that the proportions are different\n"
     ]
    },
    {
     "name": "stderr",
     "output_type": "stream",
     "text": [
      "/tmp/ipykernel_89564/1633104788.py:7: FutureWarning: Series.__getitem__ treating keys as positions is deprecated. In a future version, integer keys will always be treated as labels (consistent with DataFrame behavior). To access a value by position, use `ser.iloc[pos]`\n",
      "  successes = np.array([sample1[event], sample2[event]])\n",
      "/tmp/ipykernel_89564/1633104788.py:8: FutureWarning: Series.__getitem__ treating keys as positions is deprecated. In a future version, integer keys will always be treated as labels (consistent with DataFrame behavior). To access a value by position, use `ser.iloc[pos]`\n",
      "  trials = np.array([sample1[0], sample2[0]])\n"
     ]
    }
   ],
   "source": [
    "proportion_test(sampleA1, sampleA2, 1)"
   ]
  },
  {
   "cell_type": "code",
   "execution_count": 29,
   "metadata": {},
   "outputs": [
    {
     "name": "stdout",
     "output_type": "stream",
     "text": [
      "p-value: 0.06%\n",
      "H0 is rejected: Significant difference between the proportions\n"
     ]
    },
    {
     "name": "stderr",
     "output_type": "stream",
     "text": [
      "/tmp/ipykernel_89564/1633104788.py:7: FutureWarning: Series.__getitem__ treating keys as positions is deprecated. In a future version, integer keys will always be treated as labels (consistent with DataFrame behavior). To access a value by position, use `ser.iloc[pos]`\n",
      "  successes = np.array([sample1[event], sample2[event]])\n",
      "/tmp/ipykernel_89564/1633104788.py:8: FutureWarning: Series.__getitem__ treating keys as positions is deprecated. In a future version, integer keys will always be treated as labels (consistent with DataFrame behavior). To access a value by position, use `ser.iloc[pos]`\n",
      "  trials = np.array([sample1[0], sample2[0]])\n"
     ]
    }
   ],
   "source": [
    "proportion_test(sampleA1, sampleB, 1)"
   ]
  },
  {
   "cell_type": "code",
   "execution_count": 30,
   "metadata": {},
   "outputs": [
    {
     "name": "stdout",
     "output_type": "stream",
     "text": [
      "p-value: 0.00%\n",
      "H0 is rejected: Significant difference between the proportions\n"
     ]
    },
    {
     "name": "stderr",
     "output_type": "stream",
     "text": [
      "/tmp/ipykernel_89564/1633104788.py:7: FutureWarning: Series.__getitem__ treating keys as positions is deprecated. In a future version, integer keys will always be treated as labels (consistent with DataFrame behavior). To access a value by position, use `ser.iloc[pos]`\n",
      "  successes = np.array([sample1[event], sample2[event]])\n",
      "/tmp/ipykernel_89564/1633104788.py:8: FutureWarning: Series.__getitem__ treating keys as positions is deprecated. In a future version, integer keys will always be treated as labels (consistent with DataFrame behavior). To access a value by position, use `ser.iloc[pos]`\n",
      "  trials = np.array([sample1[0], sample2[0]])\n"
     ]
    }
   ],
   "source": [
    "proportion_test(sampleA2, sampleB, 1)"
   ]
  },
  {
   "cell_type": "markdown",
   "metadata": {},
   "source": [
    "**Conclusión:** Parece que si hay diferencia en las proporciones de las muestras A1 y A2 con B.\n",
    "\n",
    "#### Para el evento 4 (PaymentScreenSuccessful):"
   ]
  },
  {
   "cell_type": "code",
   "execution_count": 31,
   "metadata": {},
   "outputs": [
    {
     "name": "stdout",
     "output_type": "stream",
     "text": [
      "p-value: 0.00%\n",
      "H0 is rejected: Significant difference between the proportions\n"
     ]
    },
    {
     "name": "stderr",
     "output_type": "stream",
     "text": [
      "/tmp/ipykernel_89564/1633104788.py:7: FutureWarning: Series.__getitem__ treating keys as positions is deprecated. In a future version, integer keys will always be treated as labels (consistent with DataFrame behavior). To access a value by position, use `ser.iloc[pos]`\n",
      "  successes = np.array([sample1[event], sample2[event]])\n",
      "/tmp/ipykernel_89564/1633104788.py:8: FutureWarning: Series.__getitem__ treating keys as positions is deprecated. In a future version, integer keys will always be treated as labels (consistent with DataFrame behavior). To access a value by position, use `ser.iloc[pos]`\n",
      "  trials = np.array([sample1[0], sample2[0]])\n"
     ]
    }
   ],
   "source": [
    "proportion_test(sampleA1, sampleA2, 3)"
   ]
  },
  {
   "cell_type": "code",
   "execution_count": 32,
   "metadata": {},
   "outputs": [
    {
     "name": "stdout",
     "output_type": "stream",
     "text": [
      "p-value: 0.00%\n",
      "H0 is rejected: Significant difference between the proportions\n"
     ]
    },
    {
     "name": "stderr",
     "output_type": "stream",
     "text": [
      "/tmp/ipykernel_89564/1633104788.py:7: FutureWarning: Series.__getitem__ treating keys as positions is deprecated. In a future version, integer keys will always be treated as labels (consistent with DataFrame behavior). To access a value by position, use `ser.iloc[pos]`\n",
      "  successes = np.array([sample1[event], sample2[event]])\n",
      "/tmp/ipykernel_89564/1633104788.py:8: FutureWarning: Series.__getitem__ treating keys as positions is deprecated. In a future version, integer keys will always be treated as labels (consistent with DataFrame behavior). To access a value by position, use `ser.iloc[pos]`\n",
      "  trials = np.array([sample1[0], sample2[0]])\n"
     ]
    }
   ],
   "source": [
    "proportion_test(sampleA1, sampleB, 3)"
   ]
  },
  {
   "cell_type": "code",
   "execution_count": 33,
   "metadata": {},
   "outputs": [
    {
     "name": "stdout",
     "output_type": "stream",
     "text": [
      "p-value: 0.00%\n",
      "H0 is rejected: Significant difference between the proportions\n"
     ]
    },
    {
     "name": "stderr",
     "output_type": "stream",
     "text": [
      "/tmp/ipykernel_89564/1633104788.py:7: FutureWarning: Series.__getitem__ treating keys as positions is deprecated. In a future version, integer keys will always be treated as labels (consistent with DataFrame behavior). To access a value by position, use `ser.iloc[pos]`\n",
      "  successes = np.array([sample1[event], sample2[event]])\n",
      "/tmp/ipykernel_89564/1633104788.py:8: FutureWarning: Series.__getitem__ treating keys as positions is deprecated. In a future version, integer keys will always be treated as labels (consistent with DataFrame behavior). To access a value by position, use `ser.iloc[pos]`\n",
      "  trials = np.array([sample1[0], sample2[0]])\n"
     ]
    }
   ],
   "source": [
    "proportion_test(sampleA2, sampleB, 3)"
   ]
  },
  {
   "cell_type": "markdown",
   "metadata": {},
   "source": [
    "**Conclusión:** Parece que si hay diferencia en las proporciones de las muestras A1 y A2 con B."
   ]
  },
  {
   "cell_type": "markdown",
   "metadata": {},
   "source": [
    "### ¿Qué conclusiones puedes sacar del experimento?\n",
    "\n",
    "Con base en las pruebas de proporcion para el evento 4, no se puede concluir que existe diferencia significativa entre las proporciones de las muestras, dado que los resultados indican que hay diferencia significativa entre las proporciones para todos los grupos (A1 con A2, A1 con B, A2 con B).\n",
    "\n",
    "Por otro lado, con base en las pruebas U de Mann-Whitney, se concluye que no existe diferencia estadísticamente significativa entre las muestras (A1 con A2, A1 con B, A2 con B), pero en estas pruebas se usó todos los datos de las muestras.\n",
    "\n",
    "Por lo tanto, se concluye que no hay diferencia estadísticamente significativa entre las muestras, por lo tanto, las prubas A/A se realizaron exitosamente y la estrategia de \"cambiar las fuentes de toda la aplicación\" no funcionó como se esperaba."
   ]
  }
 ],
 "metadata": {
  "kernelspec": {
   "display_name": "base",
   "language": "python",
   "name": "python3"
  },
  "language_info": {
   "codemirror_mode": {
    "name": "ipython",
    "version": 3
   },
   "file_extension": ".py",
   "mimetype": "text/x-python",
   "name": "python",
   "nbconvert_exporter": "python",
   "pygments_lexer": "ipython3",
   "version": "3.12.7"
  }
 },
 "nbformat": 4,
 "nbformat_minor": 4
}
